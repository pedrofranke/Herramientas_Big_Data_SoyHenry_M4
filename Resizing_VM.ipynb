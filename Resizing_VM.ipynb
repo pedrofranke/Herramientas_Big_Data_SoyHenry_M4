{
 "cells": [
  {
   "cell_type": "markdown",
   "metadata": {},
   "source": [
    "## Como agrandar espacio en una VM con Ubuntu?\n",
    "\n",
    "Si usaste un servidor ubuntu de una maquina virtual Oracle que no fue creado por tu cuenta, puede ser que tengas limitaciones de espacio para tu proyecto, en este articulo voy a explicarte como podes solucionarlo:\n",
    "\n",
    "Suponemos que tu maquina virtual se encuentra corriendo y en correcto funcionamiento:\n",
    "\n",
    "1 - Apagar la maquina virtual.\n",
    "\n",
    "2 - Dentro de la interfaz de VM de Oracle, ir a File -> Tools -> Virtual Media Manager: Abajo del recuadro deberia aparecer una barra donde podes modificar el espacio a tu gusto.\n",
    "\n",
    "3 - Iniciar la maquina virtual e ingresar el comando 'lsblk' que les mostrara las particiones y tamanos del disco, notar que el espacio incrementado se encuentra en una particion nueva que debemos unificar. Dentro de alguna particion, deberia aparecer el servidor utilizado, en mi caso el ubuntu--vg-ubuntu--lv.\n",
    "\n",
    "4 - Ejecutar el comando 'parted /dev/sda' para iniciar el administrador de particiones.\n",
    "\n",
    "5 - Debemos averiguar en que particion se encuentra el Ubuntu, para sercionarnos de ello, ingresar 'print' para que les muestre las particiones.\n",
    "\n",
    "6 - Ejecutar 'resizepart'.\n",
    "\n",
    "7 - Seleccionar la particion deseada (la que contenia el Ubuntu).\n",
    "\n",
    "8 - La consola mostrara un mensaje \"End? [xGB]?\", cuyo significado es que definamos el porcentaje que ocupara la particion seleccionada sobre el disco. Por ello, indicamos 100%.\n",
    "\n",
    "9 - Podemos verificar que el proceso haya corrido correctamente ingresando nuevamente 'print' y verificamos que la particion tenga el tamano total seleccionado inicialmente.\n",
    "\n",
    "10 - Con la sentencia 'quit' salimos del administrador.\n",
    "\n",
    "11 - En la terminal ingresar 'pvresize /dev/sda3' (sda3 es el nombre de la particion sobre la que estuvieron trabajando, de ser otro deben sustituir dicho nombre).\n",
    "\n",
    "En este paso estamos redimensionando el volumen fisico de ocupacion de disco de nuestra VM.\n",
    "\n",
    "12 - Ejecutar el comando 'sudo lvextend -l +100%FREE /dev/mapper/ubuntu-vg/ubuntu-lv'.\n",
    "\n",
    "Este paso extiende el volumen logico ocupando el 100% del volumen fisico disponible.\n",
    "\n",
    "13 - Ejecutar 'sudo resize2fs /dev/ubuntu-vg/ubuntu-lv'.\n",
    "\n",
    "Finalmente, este paso es para redimensionar el sistema de archivos de la VM.\n",
    "\n",
    "14 - El proceso ha concluido, para verificar que se haya realizado correctamente pueden ejecutar el comando 'df -h', en donde les mostrara el espacio del servidor."
   ]
  }
 ],
 "metadata": {
  "language_info": {
   "name": "python"
  }
 },
 "nbformat": 4,
 "nbformat_minor": 2
}
